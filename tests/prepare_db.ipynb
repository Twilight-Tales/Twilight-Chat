{
 "cells": [
  {
   "cell_type": "code",
   "execution_count": 2,
   "id": "initial_id",
   "metadata": {
    "collapsed": true,
    "ExecuteTime": {
     "end_time": "2024-02-02T02:35:01.732628Z",
     "start_time": "2024-02-02T02:35:01.729196Z"
    }
   },
   "outputs": [],
   "source": [
    "import re\n",
    "def separate_chapters(text):\n",
    "    # Define a regular expression pattern to match chapter titles\n",
    "    # This pattern matches the word \"CHAPTER\" followed by any roman numeral and any title.\n",
    "    chapter_pattern = re.compile(r'CHAPTER\\s+[IVXLCDM]+\\.\\s+.*', re.IGNORECASE)\n",
    "    \n",
    "    # Find all matches of the chapter pattern in the text\n",
    "    chapters = re.split(chapter_pattern, text)\n",
    "    \n",
    "    # The first item in the list will be the text before the first chapter, which we don't need\n",
    "    if chapters:\n",
    "        chapters = chapters[1:]\n",
    "    \n",
    "    # Optionally, we can also retrieve the chapter titles if needed\n",
    "    chapter_titles = chapter_pattern.findall(text)\n",
    "    \n",
    "    # Return a list of tuples where each tuple contains the chapter title and the chapter text\n",
    "    return list(zip(chapter_titles, chapters))"
   ]
  },
  {
   "cell_type": "code",
   "outputs": [],
   "source": [
    "with open(\"books/11.txt\", 'r') as fp:\n",
    "    alice_text = fp.read()"
   ],
   "metadata": {
    "collapsed": false,
    "ExecuteTime": {
     "end_time": "2024-02-02T02:35:01.724634Z",
     "start_time": "2024-02-02T02:35:01.716244Z"
    }
   },
   "id": "45b28bb80dd87a85",
   "execution_count": 1
  },
  {
   "cell_type": "code",
   "outputs": [
    {
     "data": {
      "text/plain": "164047"
     },
     "execution_count": 3,
     "metadata": {},
     "output_type": "execute_result"
    }
   ],
   "source": [
    "len(alice_text)"
   ],
   "metadata": {
    "collapsed": false,
    "ExecuteTime": {
     "end_time": "2024-02-02T02:35:08.609194Z",
     "start_time": "2024-02-02T02:35:08.600230Z"
    }
   },
   "id": "c9887bb70a7258d8",
   "execution_count": 3
  },
  {
   "cell_type": "code",
   "outputs": [],
   "source": [
    "# Separate the text into chapters\n",
    "chapters = separate_chapters(alice_text)"
   ],
   "metadata": {
    "collapsed": false,
    "ExecuteTime": {
     "end_time": "2024-02-02T02:35:17.392443Z",
     "start_time": "2024-02-02T02:35:17.373295Z"
    }
   },
   "id": "ba2bb958d2d81bf7",
   "execution_count": 4
  },
  {
   "cell_type": "code",
   "outputs": [
    {
     "name": "stdout",
     "output_type": "stream",
     "text": [
      "Chapter 1: CHAPTER I.     Down the Rabbit-Hole\n",
      "Chapter 2: CHAPTER II.    The Pool of Tears\n",
      "Chapter 3: CHAPTER III.   A Caucus-Race and a Long Tale\n",
      "Chapter 4: CHAPTER IV.    The Rabbit Sends in a Little Bill\n",
      "Chapter 5: CHAPTER V.     Advice from a Caterpillar\n",
      "Chapter 6: CHAPTER VI.    Pig and Pepper\n",
      "Chapter 7: CHAPTER VII.   A Mad Tea-Party\n",
      "Chapter 8: CHAPTER VIII.  The Queen’s Croquet-Ground\n",
      "Chapter 9: CHAPTER IX.    The Mock Turtle’s Story\n",
      "Chapter 10: CHAPTER X.     The Lobster Quadrille\n",
      "Chapter 11: CHAPTER XI.    Who Stole the Tarts?\n",
      "Chapter 12: CHAPTER XII.   Alice’s Evidence\n",
      "Chapter 13: CHAPTER I.\n",
      "Down the Rabbit-Hole\n",
      "Chapter 14: CHAPTER II.\n",
      "The Pool of Tears\n",
      "Chapter 15: CHAPTER III.\n",
      "A Caucus-Race and a Long Tale\n",
      "Chapter 16: CHAPTER IV.\n",
      "The Rabbit Sends in a Little Bill\n",
      "Chapter 17: CHAPTER V.\n",
      "Advice from a Caterpillar\n",
      "Chapter 18: CHAPTER VI.\n",
      "Pig and Pepper\n",
      "Chapter 19: CHAPTER VII.\n",
      "A Mad Tea-Party\n",
      "Chapter 20: CHAPTER VIII.\n",
      "The Queen’s Croquet-Ground\n",
      "Chapter 21: CHAPTER IX.\n",
      "The Mock Turtle’s Story\n",
      "Chapter 22: CHAPTER X.\n",
      "The Lobster Quadrille\n",
      "Chapter 23: CHAPTER XI.\n",
      "Who Stole the Tarts?\n",
      "Chapter 24: CHAPTER XII.\n",
      "Alice’s Evidence\n"
     ]
    }
   ],
   "source": [
    "# Display each chapter separately\n",
    "for i, (title, text) in enumerate(chapters, start=1):\n",
    "    print(f\"Chapter {i}: {title}\")"
   ],
   "metadata": {
    "collapsed": false,
    "ExecuteTime": {
     "end_time": "2024-02-02T02:37:09.465745Z",
     "start_time": "2024-02-02T02:37:09.348512Z"
    }
   },
   "id": "97eefff174e9eae5",
   "execution_count": 7
  },
  {
   "cell_type": "code",
   "outputs": [],
   "source": [
    "import sqlite3\n",
    "import os\n",
    "import re\n",
    "\n",
    "# Database setup\n",
    "def setup_database(db_path):\n",
    "    conn = sqlite3.connect(db_path)\n",
    "    cursor = conn.cursor()\n",
    "    cursor.execute('''CREATE TABLE IF NOT EXISTS books\n",
    "                      (book_id INTEGER PRIMARY KEY, title TEXT UNIQUE)''')\n",
    "    cursor.execute('''CREATE TABLE IF NOT EXISTS chapters\n",
    "                      (chapter_id INTEGER PRIMARY KEY, book_id INTEGER, chapter_number TEXT, chapter_title TEXT, chapter_text TEXT,\n",
    "                      FOREIGN KEY(book_id) REFERENCES books(book_id))''')\n",
    "    conn.commit()\n",
    "    return conn\n",
    "\n",
    "# Function to insert a book and its chapters into the database\n",
    "def insert_book_and_chapters(conn, title, chapters):\n",
    "    cursor = conn.cursor()\n",
    "    # Insert book\n",
    "    cursor.execute('INSERT OR IGNORE INTO books (title) VALUES (?)', (title,))\n",
    "    book_id = cursor.lastrowid\n",
    "    if book_id == 0:  # If the book was already in the database, get its id\n",
    "        cursor.execute('SELECT book_id FROM books WHERE title = ?', (title,))\n",
    "        book_id = cursor.fetchone()[0]\n",
    "    # Insert chapters\n",
    "    for chapter_number, chapter_title, chapter_text in chapters:\n",
    "        cursor.execute('INSERT INTO chapters (book_id, chapter_number, chapter_title, chapter_text) VALUES (?, ?, ?, ?)',\n",
    "                       (book_id, chapter_number, chapter_title, chapter_text))\n",
    "    conn.commit()\n",
    "\n",
    "# Process books and store in database\n",
    "def process_books(books_path, conn):\n",
    "    for filename in os.listdir(books_path):\n",
    "        if filename.endswith(\".txt\"):\n",
    "            book_path = os.path.join(books_path, filename)\n",
    "            with open(book_path, 'r', encoding='utf-8') as file:\n",
    "                text = file.read()\n",
    "                title = text.split('\\n')[0].replace(\"The Project Gutenberg eBook of \", \"\").strip()\n",
    "                title = title.replace(\"*** START OF THE PROJECT GUTENBERG EBOOK\", \"\").strip()\n",
    "                print(f\"{book_path}:{title}\")\n",
    "                # Parse the \"Contents\" section to get titles\n",
    "                contents_pattern = re.compile(r'(Contents|CONTENTS)\\s*(.*?)(CHAPTER I|CHAPTER 1|THE PREFACE)', re.DOTALL)\n",
    "                contents_match = contents_pattern.search(text)\n",
    "                if contents_match:\n",
    "                    contents_block = contents_match.group(2)\n",
    "                    # Extract titles from the \"Contents\" block\n",
    "                    titles = re.findall(r'(CHAPTER [IVXLCDM]+\\.|THE PREFACE|EPILOGUE|PROLOGUE)', contents_block, re.IGNORECASE)\n",
    "\n",
    "                    # Prepare regex pattern to match all titles in the text\n",
    "                    titles_regex = '|'.join(re.escape(title) for title in titles)\n",
    "\n",
    "                # Split the text based on titles\n",
    "                sections = re.split(titles_regex, text)[1:]  # Skip the part before the first title\n",
    "                for i, section in enumerate(sections):\n",
    "                    # Assuming titles list is aligned with sections\n",
    "                    if i < len(titles):\n",
    "                        chapter_title = titles[i]\n",
    "                    else:\n",
    "                        chapter_title = f\"Section {i+1}\"\n",
    "                    chapter_number = str(i + 1)\n",
    "                    insert_book_and_chapters(conn, title, [(chapter_number, chapter_title, section)])\n"
   ],
   "metadata": {
    "collapsed": false,
    "ExecuteTime": {
     "end_time": "2024-02-03T16:10:30.126313Z",
     "start_time": "2024-02-03T16:10:30.114827Z"
    }
   },
   "id": "50474ad2443f4bac",
   "execution_count": 21
  },
  {
   "cell_type": "code",
   "outputs": [
    {
     "name": "stdout",
     "output_type": "stream",
     "text": [
      "./books/100.txt:﻿ THE COMPLETE WORKS OF WILLIAM\n"
     ]
    },
    {
     "ename": "UnboundLocalError",
     "evalue": "cannot access local variable 'titles_regex' where it is not associated with a value",
     "output_type": "error",
     "traceback": [
      "\u001B[0;31m---------------------------------------------------------------------------\u001B[0m",
      "\u001B[0;31mUnboundLocalError\u001B[0m                         Traceback (most recent call last)",
      "Cell \u001B[0;32mIn[22], line 4\u001B[0m\n\u001B[1;32m      2\u001B[0m books_path \u001B[38;5;241m=\u001B[39m \u001B[38;5;124m\"\u001B[39m\u001B[38;5;124m./books/\u001B[39m\u001B[38;5;124m\"\u001B[39m\n\u001B[1;32m      3\u001B[0m conn \u001B[38;5;241m=\u001B[39m setup_database(db_path)\n\u001B[0;32m----> 4\u001B[0m \u001B[43mprocess_books\u001B[49m\u001B[43m(\u001B[49m\u001B[43mbooks_path\u001B[49m\u001B[43m,\u001B[49m\u001B[43m \u001B[49m\u001B[43mconn\u001B[49m\u001B[43m)\u001B[49m\n",
      "Cell \u001B[0;32mIn[21], line 54\u001B[0m, in \u001B[0;36mprocess_books\u001B[0;34m(books_path, conn)\u001B[0m\n\u001B[1;32m     51\u001B[0m     titles_regex \u001B[38;5;241m=\u001B[39m \u001B[38;5;124m'\u001B[39m\u001B[38;5;124m|\u001B[39m\u001B[38;5;124m'\u001B[39m\u001B[38;5;241m.\u001B[39mjoin(re\u001B[38;5;241m.\u001B[39mescape(title) \u001B[38;5;28;01mfor\u001B[39;00m title \u001B[38;5;129;01min\u001B[39;00m titles)\n\u001B[1;32m     53\u001B[0m \u001B[38;5;66;03m# Split the text based on titles\u001B[39;00m\n\u001B[0;32m---> 54\u001B[0m sections \u001B[38;5;241m=\u001B[39m re\u001B[38;5;241m.\u001B[39msplit(\u001B[43mtitles_regex\u001B[49m, text)[\u001B[38;5;241m1\u001B[39m:]  \u001B[38;5;66;03m# Skip the part before the first title\u001B[39;00m\n\u001B[1;32m     55\u001B[0m \u001B[38;5;28;01mfor\u001B[39;00m i, section \u001B[38;5;129;01min\u001B[39;00m \u001B[38;5;28menumerate\u001B[39m(sections):\n\u001B[1;32m     56\u001B[0m     \u001B[38;5;66;03m# Assuming titles list is aligned with sections\u001B[39;00m\n\u001B[1;32m     57\u001B[0m     \u001B[38;5;28;01mif\u001B[39;00m i \u001B[38;5;241m<\u001B[39m \u001B[38;5;28mlen\u001B[39m(titles):\n",
      "\u001B[0;31mUnboundLocalError\u001B[0m: cannot access local variable 'titles_regex' where it is not associated with a value"
     ]
    }
   ],
   "source": [
    "db_path = 'books_database.db'\n",
    "books_path = \"./books/\"\n",
    "conn = setup_database(db_path)\n",
    "process_books(books_path, conn)"
   ],
   "metadata": {
    "collapsed": false,
    "ExecuteTime": {
     "end_time": "2024-02-03T16:10:53.444271Z",
     "start_time": "2024-02-03T16:10:44.145335Z"
    }
   },
   "id": "1d4f058dcf900d90",
   "execution_count": 22
  },
  {
   "cell_type": "code",
   "outputs": [],
   "source": [],
   "metadata": {
    "collapsed": false
   },
   "id": "382fc300bf33e5fb"
  }
 ],
 "metadata": {
  "kernelspec": {
   "display_name": "Python 3",
   "language": "python",
   "name": "python3"
  },
  "language_info": {
   "codemirror_mode": {
    "name": "ipython",
    "version": 2
   },
   "file_extension": ".py",
   "mimetype": "text/x-python",
   "name": "python",
   "nbconvert_exporter": "python",
   "pygments_lexer": "ipython2",
   "version": "2.7.6"
  }
 },
 "nbformat": 4,
 "nbformat_minor": 5
}
