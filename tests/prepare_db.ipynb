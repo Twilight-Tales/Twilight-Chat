{
 "cells": [
  {
   "cell_type": "code",
   "execution_count": 14,
   "id": "initial_id",
   "metadata": {
    "ExecuteTime": {
     "end_time": "2024-02-02T02:35:01.732628Z",
     "start_time": "2024-02-02T02:35:01.729196Z"
    },
    "collapsed": true
   },
   "outputs": [],
   "source": [
    "import re\n",
    "def separate_chapters(text):\n",
    "    # Define a regular expression pattern to match chapter titles\n",
    "    # This pattern matches the word \"CHAPTER\" followed by any roman numeral and any title.\n",
    "    chapter_pattern = re.compile(r'CHAPTER\\s+[IVXLCDM]+\\.\\s+.*', re.IGNORECASE)\n",
    "    \n",
    "    # Find all matches of the chapter pattern in the text\n",
    "    chapters = re.split(chapter_pattern, text)\n",
    "    \n",
    "    # The first item in the list will be the text before the first chapter, which we don't need\n",
    "    if chapters:\n",
    "        chapters = chapters[1:]\n",
    "    \n",
    "    # Optionally, we can also retrieve the chapter titles if needed\n",
    "    chapter_titles = chapter_pattern.findall(text)\n",
    "    \n",
    "    # Return a list of tuples where each tuple contains the chapter title and the chapter text\n",
    "    return list(zip(chapter_titles, chapters))"
   ]
  },
  {
   "cell_type": "code",
   "execution_count": 15,
   "id": "45b28bb80dd87a85",
   "metadata": {
    "ExecuteTime": {
     "end_time": "2024-02-02T02:35:01.724634Z",
     "start_time": "2024-02-02T02:35:01.716244Z"
    },
    "collapsed": false
   },
   "outputs": [],
   "source": [
    "#Test with alice \n",
    "with open(\"../books.txt\", 'r', encoding='utf-8') as fp:\n",
    "    alice_text = fp.read()"
   ]
  },
  {
   "cell_type": "code",
   "execution_count": 16,
   "id": "c9887bb70a7258d8",
   "metadata": {
    "ExecuteTime": {
     "end_time": "2024-02-02T02:35:08.609194Z",
     "start_time": "2024-02-02T02:35:08.600230Z"
    },
    "collapsed": false
   },
   "outputs": [
    {
     "data": {
      "text/plain": [
       "11471"
      ]
     },
     "execution_count": 16,
     "metadata": {},
     "output_type": "execute_result"
    }
   ],
   "source": [
    "len(alice_text)"
   ]
  },
  {
   "cell_type": "code",
   "execution_count": 17,
   "id": "ba2bb958d2d81bf7",
   "metadata": {
    "ExecuteTime": {
     "end_time": "2024-02-02T02:35:17.392443Z",
     "start_time": "2024-02-02T02:35:17.373295Z"
    },
    "collapsed": false
   },
   "outputs": [],
   "source": [
    "# Separate the text into chapters\n",
    "chapters = separate_chapters(alice_text)"
   ]
  },
  {
   "cell_type": "code",
   "execution_count": 18,
   "id": "97eefff174e9eae5",
   "metadata": {
    "ExecuteTime": {
     "end_time": "2024-02-02T02:37:09.465745Z",
     "start_time": "2024-02-02T02:37:09.348512Z"
    },
    "collapsed": false
   },
   "outputs": [
    {
     "name": "stdout",
     "output_type": "stream",
     "text": [
      "Chapter 1: CHAPTER I.\n",
      "Down the Rabbit-Hole\n"
     ]
    }
   ],
   "source": [
    "# Display each chapter separately\n",
    "for i, (title, text) in enumerate(chapters, start=1):\n",
    "    print(f\"Chapter {i}: {title}\")"
   ]
  },
  {
   "cell_type": "code",
   "execution_count": 19,
   "id": "ee11bf0d",
   "metadata": {},
   "outputs": [],
   "source": [
    "# Function to insert a book and its chapters into the database\n",
    "def insert_book_and_chapters(conn, title, author, pages, chapters):\n",
    "    cursor = conn.cursor()\n",
    "    # Insert book\n",
    "    cursor.execute('INSERT OR IGNORE INTO books (title, author, pages) VALUES (?, ?, ?)', (title, author, pages))\n",
    "    # Get book_id\n",
    "    cursor.execute('SELECT book_id FROM books WHERE title = ?', (title,))\n",
    "    book_id = cursor.fetchone()[0]\n",
    "    # Insert chapters\n",
    "    for chapter_number, chapter_title, chapter_text in chapters:\n",
    "        cursor.execute('INSERT INTO chapters (chapter_number, chapter_title, chapter_text) VALUES (?, ?, ?, ?)',\n",
    "                       (book_id, chapter_number, chapter_title, chapter_text))\n",
    "    conn.commit()"
   ]
  },
  {
   "cell_type": "code",
   "execution_count": 13,
   "id": "50474ad2443f4bac",
   "metadata": {
    "ExecuteTime": {
     "end_time": "2024-02-03T16:10:30.126313Z",
     "start_time": "2024-02-03T16:10:30.114827Z"
    },
    "collapsed": false
   },
   "outputs": [],
   "source": [
    "# Process books and store in database\n",
    "def process_books(books_path, conn):\n",
    "    for filename in os.listdir(books_path):\n",
    "        if filename.endswith(\".txt\"):\n",
    "            book_path = os.path.join(books_path, filename)\n",
    "            with open(book_path, 'r', encoding='utf-8') as file:\n",
    "                text = file.read()\n",
    "                title = text.split('\\n')[0].replace(\"The Project Gutenberg eBook of \", \"\").strip()\n",
    "                title = title.replace(\"*** START OF THE PROJECT GUTENBERG EBOOK\", \"\").strip()\n",
    "                print(f\"{book_path}:{title}\")\n",
    "                # Parse the \"Contents\" section to get titles\n",
    "                contents_pattern = re.compile(r'(Contents|CONTENTS)\\s*(.*?)(CHAPTER I|CHAPTER 1|THE PREFACE)', re.DOTALL)\n",
    "                contents_match = contents_pattern.search(text)\n",
    "                if contents_match:\n",
    "                    contents_block = contents_match.group(2)\n",
    "                    # Extract titles from the \"Contents\" block\n",
    "                    titles = re.findall(r'(CHAPTER [IVXLCDM]+\\.|THE PREFACE|EPILOGUE|PROLOGUE)', contents_block, re.IGNORECASE)\n",
    "\n",
    "                    # Prepare regex pattern to match all titles in the text\n",
    "                    titles_regex = '|'.join(re.escape(title) for title in titles)\n",
    "\n",
    "                # Split the text based on titles\n",
    "                sections = re.split(titles_regex, text)[1:]  # Skip the part before the first title\n",
    "                for i, section in enumerate(sections):\n",
    "                    # Assuming titles list is aligned with sections\n",
    "                    if i < len(titles):\n",
    "                        chapter_title = titles[i]\n",
    "                    else:\n",
    "                        chapter_title = f\"Section {i+1}\"\n",
    "                    chapter_number = str(i + 1)\n",
    "                    insert_book_and_chapters(conn, title, [(chapter_number, chapter_title, section)])\n"
   ]
  },
  {
   "cell_type": "code",
   "execution_count": 20,
   "id": "935b0b2e",
   "metadata": {},
   "outputs": [],
   "source": [
    "import sqlite3\n",
    "import os\n",
    "import re\n",
    "\n",
    "# Database setup\n",
    "def setup_database(db_path):\n",
    "    conn = sqlite3.connect(db_path)\n",
    "    cursor = conn.cursor()\n",
    "    cursor.execute('''CREATE TABLE IF NOT EXISTS books\n",
    "                      (book_id INTEGER PRIMARY KEY, title TEXT UNIQUE)''')\n",
    "    cursor.execute('''CREATE TABLE IF NOT EXISTS chapters\n",
    "                      (chapter_id INTEGER PRIMARY KEY, book_id INTEGER, chapter_number TEXT, chapter_title TEXT, chapter_text TEXT,\n",
    "                      FOREIGN KEY(book_id) REFERENCES books(book_id))''')\n",
    "    conn.commit()\n",
    "    return conn"
   ]
  },
  {
   "cell_type": "code",
   "execution_count": 22,
   "id": "1d4f058dcf900d90",
   "metadata": {
    "ExecuteTime": {
     "end_time": "2024-02-03T16:10:53.444271Z",
     "start_time": "2024-02-03T16:10:44.145335Z"
    },
    "collapsed": false
   },
   "outputs": [
    {
     "name": "stdout",
     "output_type": "stream",
     "text": [
      "./books/100.txt:﻿ THE COMPLETE WORKS OF WILLIAM\n"
     ]
    },
    {
     "ename": "UnboundLocalError",
     "evalue": "cannot access local variable 'titles_regex' where it is not associated with a value",
     "output_type": "error",
     "traceback": [
      "\u001b[0;31m---------------------------------------------------------------------------\u001b[0m",
      "\u001b[0;31mUnboundLocalError\u001b[0m                         Traceback (most recent call last)",
      "Cell \u001b[0;32mIn[22], line 4\u001b[0m\n\u001b[1;32m      2\u001b[0m books_path \u001b[38;5;241m=\u001b[39m \u001b[38;5;124m\"\u001b[39m\u001b[38;5;124m./books/\u001b[39m\u001b[38;5;124m\"\u001b[39m\n\u001b[1;32m      3\u001b[0m conn \u001b[38;5;241m=\u001b[39m setup_database(db_path)\n\u001b[0;32m----> 4\u001b[0m \u001b[43mprocess_books\u001b[49m\u001b[43m(\u001b[49m\u001b[43mbooks_path\u001b[49m\u001b[43m,\u001b[49m\u001b[43m \u001b[49m\u001b[43mconn\u001b[49m\u001b[43m)\u001b[49m\n",
      "Cell \u001b[0;32mIn[21], line 54\u001b[0m, in \u001b[0;36mprocess_books\u001b[0;34m(books_path, conn)\u001b[0m\n\u001b[1;32m     51\u001b[0m     titles_regex \u001b[38;5;241m=\u001b[39m \u001b[38;5;124m'\u001b[39m\u001b[38;5;124m|\u001b[39m\u001b[38;5;124m'\u001b[39m\u001b[38;5;241m.\u001b[39mjoin(re\u001b[38;5;241m.\u001b[39mescape(title) \u001b[38;5;28;01mfor\u001b[39;00m title \u001b[38;5;129;01min\u001b[39;00m titles)\n\u001b[1;32m     53\u001b[0m \u001b[38;5;66;03m# Split the text based on titles\u001b[39;00m\n\u001b[0;32m---> 54\u001b[0m sections \u001b[38;5;241m=\u001b[39m re\u001b[38;5;241m.\u001b[39msplit(\u001b[43mtitles_regex\u001b[49m, text)[\u001b[38;5;241m1\u001b[39m:]  \u001b[38;5;66;03m# Skip the part before the first title\u001b[39;00m\n\u001b[1;32m     55\u001b[0m \u001b[38;5;28;01mfor\u001b[39;00m i, section \u001b[38;5;129;01min\u001b[39;00m \u001b[38;5;28menumerate\u001b[39m(sections):\n\u001b[1;32m     56\u001b[0m     \u001b[38;5;66;03m# Assuming titles list is aligned with sections\u001b[39;00m\n\u001b[1;32m     57\u001b[0m     \u001b[38;5;28;01mif\u001b[39;00m i \u001b[38;5;241m<\u001b[39m \u001b[38;5;28mlen\u001b[39m(titles):\n",
      "\u001b[0;31mUnboundLocalError\u001b[0m: cannot access local variable 'titles_regex' where it is not associated with a value"
     ]
    }
   ],
   "source": [
    "db_path = 'books_database.db'\n",
    "books_path = \"./books/\"\n",
    "conn = setup_database(db_path)\n",
    "process_books(books_path, conn)"
   ]
  },
  {
   "cell_type": "code",
   "execution_count": null,
   "id": "382fc300bf33e5fb",
   "metadata": {
    "collapsed": false
   },
   "outputs": [],
   "source": []
  }
 ],
 "metadata": {
  "kernelspec": {
   "display_name": "Python 3",
   "language": "python",
   "name": "python3"
  },
  "language_info": {
   "codemirror_mode": {
    "name": "ipython",
    "version": 3
   },
   "file_extension": ".py",
   "mimetype": "text/x-python",
   "name": "python",
   "nbconvert_exporter": "python",
   "pygments_lexer": "ipython3",
   "version": "3.11.8"
  }
 },
 "nbformat": 4,
 "nbformat_minor": 5
}
